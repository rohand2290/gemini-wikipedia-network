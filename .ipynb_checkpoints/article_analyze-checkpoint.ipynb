{
 "cells": [
  {
   "cell_type": "markdown",
   "id": "9b037549",
   "metadata": {},
   "source": [
    "# Generating DAG's on Wikipedia articles with Langchain\n",
    "\n",
    "## Introduction\n",
    "Yesterday I was bored, and I've already done some work generating protein association networks with Cytoscape and String.\n",
    "I was wondering if this could be extended to other domains with the use of LLM's to generate JSON graph data.\n",
    "I tried it with an paragraph in an article about the [Muslim Brotherhood](https://en.wikipedia.org/wiki/Muslim_Brotherhood) since I had to write a final paper on that for my first year seminar at UCLA and it yielded somewhat interesting results.\n",
    "I was able to import the JSON into Cytoscape and do an analysis, but I want to try investigating the feasibility of doing this on a larger scale.\n"
   ]
  },
  {
   "cell_type": "markdown",
   "id": "5044939e",
   "metadata": {},
   "source": [
    "## Load Wikipedia article\n",
    "We'll use Langchain's loaders to scrape Wikipedia articles.\n",
    "This way, we can programmatically get Wikipedia articles and chunk them later."
   ]
  },
  {
   "cell_type": "code",
   "execution_count": 2,
   "id": "7d4cf53f",
   "metadata": {},
   "outputs": [],
   "source": [
    "from langchain_community.document_loaders import WikipediaLoader"
   ]
  },
  {
   "cell_type": "code",
   "execution_count": 3,
   "id": "794f673b",
   "metadata": {},
   "outputs": [
    {
     "data": {
      "text/plain": [
       "Document(metadata={'title': 'Syrian civil war', 'summary': \"The Syrian civil war began with the Syrian revolution in March 2011, when popular discontent with the Ba'athist regime ruled by Bashar al-Assad triggered large-scale protests and pro-democracy rallies across Syria, as part of the wider Arab Spring. The Assad regime responded to the protests with lethal force, sparking a civil war. The Syrian revolution lasted almost 14 years and culminated in the fall of the Assad regime in December 2024. Many sources regard this as the end of the civil war. \\nThe Syrian opposition to Bashar al-Assad began an insurgency, forming groups such as the Free Syrian Army. Anti-Assad forces received arms from states such as Qatar and Turkey. Pro-Assad forces received financial and military support from Iran and Russia: Iran launched a military intervention in support of the Syrian government in 2013, and Russia followed in 2015. By this time, rebels had established the Syrian Interim Government after capturing the regional capitals of Raqqa in 2013 and Idlib in 2015.\\nIn 2014, the Islamic State of Iraq and Syria (ISIS) seized control over Eastern Syria and Western Iraq, prompting a United States-led coalition to launch an aerial bombing campaign against ISIS, while providing ground support and supplies to the Syrian Democratic Forces (SDF), a Kurdish-dominated coalition led by the People's Defense Units (YPG). In 2016, Turkey launched an invasion of northern Syria in response to the creation of the Kurdish-led Autonomous Administration of North and East Syria (Rojava), while also establishing the Syrian National Army (SNA) to help it fight ISIS and pro-Assad forces.\\nThe December 2016 victory of pro-Assad forces in the four-year Battle of Aleppo marked the recapture of what had been Syria's largest city before the war. In Idlib Governorate, the Hay'at Tahrir al-Sham (HTS) militia formed the Syrian Salvation Government, a technocratic, Islamist administration that governed the region from 2017 until 2024. ISIS was defeated in the Raqqa and Deir ez-Zor campaigns. In December 2019, regime forces launched an offensive on Idlib province, which ended in a ceasefire lasting from 2020 until November 2024. During this period, there were regular clashes between pro-Assad forces and HTS.\\nHTS launched a major offensive on 27 November 2024, with support from the SNA. Aleppo fell in three days, giving momentum to revolutionaries across the country. Southern rebels launched their own offensive, capturing Daraa and Suwayda. HTS captured Hama, while the Syrian Free Army and the SDF launched separate offensives in Palmyra and Deir ez-Zor, respectively. On 8 December, Bashar al-Assad fled to Moscow as Homs and Damascus fell to the revolutionaries. His prime minister transferred power to the new government, and Israel launched the invasion of Syria's Quneitra Governorate (including the UN buffer zone) from its 58-year occupation of the Syrian Golan Heights.\\nAt the Syrian Revolution Victory Conference held at the Presidential Palace in Damascus on 29 January 2025, the new government announced the dissolution of several armed militias and their integration into the Syrian Ministry of Defense, as well as the appointment of former HTS leader Ahmed al-Sharaa as president of Syria.\\n\\n\", 'source': 'https://en.wikipedia.org/wiki/Syrian_civil_war'}, page_content=\"The Syrian civil war began with the Syrian revolution in March 2011, when popular discontent with the Ba'athist regime ruled by Bashar al-Assad triggered large-scale protests and pro-democracy rallies across Syria, as part of the wider Arab Spring. The Assad regime responded to the protests with lethal force, sparking a civil war. The Syrian revolution lasted almost 14 years and culminated in the fall of the Assad regime in December 2024. Many sources regard this as the end of the civil war. \\nThe Syrian opposition to Bashar al-Assad began an insurgency, forming groups such as the Free Syrian Army. Anti-Assad forces received arms from states such as Qatar and Turkey. Pro-Assad forces received financial and military support from Iran and Russia: Iran launched a military intervention in support of the Syrian government in 2013, and Russia followed in 2015. By this time, rebels had established the Syrian Interim Government after capturing the regional capitals of Raqqa in 2013 and Idlib in 2015.\\nIn 2014, the Islamic State of Iraq and Syria (ISIS) seized control over Eastern Syria and Western Iraq, prompting a United States-led coalition to launch an aerial bombing campaign against ISIS, while providing ground support and supplies to the Syrian Democratic Forces (SDF), a Kurdish-dominated coalition led by the People's Defense Units (YPG). In 2016, Turkey launched an invasion of northern Syria in response to the creation of the Kurdish-led Autonomous Administration of North and East Syria (Rojava), while also establishing the Syrian National Army (SNA) to help it fight ISIS and pro-Assad forces.\\nThe December 2016 victory of pro-Assad forces in the four-year Battle of Aleppo marked the recapture of what had been Syria's largest city before the war. In Idlib Governorate, the Hay'at Tahrir al-Sham (HTS) militia formed the Syrian Salvation Government, a technocratic, Islamist administration that governed the region from 2017 until 2024. ISIS was defeated in the Raqqa and Deir ez-Zor campaigns. In December 2019, regime forces launched an offensive on Idlib province, which ended in a ceasefire lasting from 2020 until November 2024. During this period, there were regular clashes between pro-Assad forces and HTS.\\nHTS launched a major offensive on 27 November 2024, with support from the SNA. Aleppo fell in three days, giving momentum to revolutionaries across the country. Southern rebels launched their own offensive, capturing Daraa and Suwayda. HTS captured Hama, while the Syrian Free Army and the SDF launched separate offensives in Palmyra and Deir ez-Zor, respectively. On 8 December, Bashar al-Assad fled to Moscow as Homs and Damascus fell to the revolutionaries. His prime minister transferred power to the new government, and Israel launched the invasion of Syria's Quneitra Governorate (including the UN buffer zone) from its 58-year occupation of the Syrian Golan Heights.\\nAt the Syrian Revolution Victory Conference held at the Presidential Palace in Damascus on 29 January 2025, the new government announced the dissolution of several armed militias and their integration into the Syrian Ministry of Defense, as well as the appointment of former HTS leader Ahmed al-Sharaa as president of Syria.\\n\\n\\n== Overview and timeline ==\\n\\n\\n=== Protests, civil uprising, and armed insurgency (2011–2012) ===\\n\\nIn March 2011, popular discontent with President Bashar al-Assad's Ba'athist government led to large-scale protests and pro-democracy rallies across Syria, as part of the wider Arab Spring protests in the region. Numerous protests were violently suppressed by security forces in deadly crackdowns ordered by Assad, resulting in tens of thousands of deaths and detentions, many of whom were civilians. The Syrian revolution transformed into an insurgency with the formation of resistance militias across the country, developing into a full civil war by 2012.\\n\\n\\n=== Peak of violence, foreign interventions (2012–2020) ===\\nThe war has been fought by several faction\")"
      ]
     },
     "execution_count": 3,
     "metadata": {},
     "output_type": "execute_result"
    }
   ],
   "source": [
    "docs = WikipediaLoader(query=\"Syrian Civil War\", load_max_docs=1).load()\n",
    "docs[0]"
   ]
  },
  {
   "cell_type": "markdown",
   "id": "735d196b",
   "metadata": {},
   "source": []
  },
  {
   "cell_type": "code",
   "execution_count": 4,
   "id": "981bfff2",
   "metadata": {},
   "outputs": [],
   "source": [
    "from langchain_text_splitters import RecursiveCharacterTextSplitter\n",
    "\n",
    "article_splitter = RecursiveCharacterTextSplitter(\n",
    "    chunk_size = 1200,\n",
    "    chunk_overlap = 200\n",
    ")\n",
    "\n",
    "split_article = article_splitter.split_documents(docs)"
   ]
  },
  {
   "cell_type": "markdown",
   "id": "b2e55e97",
   "metadata": {},
   "source": [
    "## Defining the schema\n",
    "\n",
    "For our DAG, we need to define schemas for nodes and edges. Nodes have to be event centric, but minimal, and edges have to be causal with evidence."
   ]
  },
  {
   "cell_type": "markdown",
   "id": "47d6a904",
   "metadata": {},
   "source": []
  },
  {
   "cell_type": "code",
   "execution_count": 5,
   "id": "7ef4bf29",
   "metadata": {},
   "outputs": [],
   "source": [
    "# Minimal schemas for a temporal causal graph (Cytoscape-ready)\n",
    "\n",
    "from enum import Enum\n",
    "from typing import List, Optional, Dict, Any, Tuple, Literal\n",
    "from pydantic import BaseModel, Field, constr, confloat\n",
    "from datetime import date\n",
    "\n",
    "\n",
    "# --- Enums ---\n",
    "\n",
    "class NodeType(str, Enum):\n",
    "    Event = \"Event\"\n",
    "    Person = \"Person\"\n",
    "    Organization = \"Organization\"\n",
    "    Place = \"Place\"\n",
    "    Concept = \"Concept\"\n",
    "\n",
    "\n",
    "class RelationType(str, Enum):\n",
    "    causes = \"causes\"\n",
    "    leads_to = \"leads_to\"\n",
    "    enables = \"enables\"\n",
    "    triggers = \"triggers\"\n",
    "    prevents = \"prevents\"\n",
    "    mitigates = \"mitigates\"\n",
    "\n",
    "\n",
    "Polarity = Literal[1, -1]  # +1 promotes/enables; -1 inhibits/prevents\n",
    "\n",
    "\n",
    "# --- Evidence & Provenance (minimal) ---\n",
    "\n",
    "class Evidence(BaseModel):\n",
    "    quote: constr(strip_whitespace=True, min_length=1)\n",
    "    citation_ids: List[str] = Field(default_factory=list)\n",
    "    section: Optional[str] = None\n",
    "    char_spans: Optional[Tuple[int, int]] = None\n",
    "\n",
    "\n",
    "class Provenance(BaseModel):\n",
    "    article_id: Optional[str] = None\n",
    "    revision_id: Optional[str] = None\n",
    "    run_id: Optional[str] = None\n",
    "\n",
    "\n",
    "# --- Core graph models ---\n",
    "\n",
    "class EventNode(BaseModel):\n",
    "    id: constr(strip_whitespace=True, min_length=1)\n",
    "    label: constr(strip_whitespace=True, min_length=1)\n",
    "    type: NodeType = NodeType.Event\n",
    "    time_start: Optional[date] = None\n",
    "    time_end: Optional[date] = None\n",
    "    wikidata_id: Optional[str] = None\n",
    "    provenance: Optional[Provenance] = None\n",
    "    meta: Dict[str, Any] = Field(default_factory=dict)\n",
    "\n",
    "\n",
    "class CausalEdge(BaseModel):\n",
    "    id: constr(strip_whitespace=True, min_length=1)\n",
    "    source: constr(strip_whitespace=True, min_length=1)\n",
    "    target: constr(strip_whitespace=True, min_length=1)\n",
    "    relation_type: RelationType\n",
    "    polarity: Polarity = 1\n",
    "    confidence: confloat(ge=0.0, le=1.0) = 0.5\n",
    "    lag_days: Optional[int] = None\n",
    "    evidence: List[Evidence] = Field(default_factory=list)\n",
    "    temporal_valid: bool = True\n",
    "    provisional: bool = False\n",
    "    meta: Dict[str, Any] = Field(default_factory=dict)\n",
    "\n",
    "\n",
    "# --- Cytoscape export wrappers (minimal) ---\n",
    "\n",
    "class CyNode(BaseModel):\n",
    "    data: EventNode\n",
    "\n",
    "\n",
    "class CyEdge(BaseModel):\n",
    "    data: CausalEdge\n",
    "\n",
    "\n",
    "class CyElements(BaseModel):\n",
    "    nodes: List[CyNode] = Field(default_factory=list)\n",
    "    edges: List[CyEdge] = Field(default_factory=list)\n"
   ]
  },
  {
   "cell_type": "markdown",
   "id": "ff09f3e9",
   "metadata": {},
   "source": [
    "## Creating extractor\n",
    "Using the schemas defined above, we're going to build an extraction chain with Gemini. It'll take our document and parse it into CyElements, which can be imported into Cytoscape later."
   ]
  },
  {
   "cell_type": "code",
   "execution_count": null,
   "id": "f34e8087",
   "metadata": {},
   "outputs": [],
   "source": [
    "from langchain.output_parsers import PydanticOutputParser\n",
    "from langchain.prompts import ChatPromptTemplate\n",
    "from langchain.chat_models import init_chat_model\n",
    "parser = PydanticOutputParser(pydantic_object=CyElements)\n",
    "format_instructions = parser.get_format_instructions()\n",
    "\n",
    "SYSTEM = \"\"\"You are extracting a causal, temporal graph from the provided document.\n",
    "Goal: Return a Cytoscape-ready JSON object with nodes and edges.\n",
    "\n",
    "Rules:\n",
    "- Only include nodes that are concrete events/entities referenced in the document.\n",
    "- Event node should be Event, Person, Organization, Place, Concept from the allowed set.\n",
    "- Only include causal edges (cause → effect). Use relation_type from the allowed set.\n",
    "- Set polarity: +1 for promotes/enables/causes; -1 for prevents/mitigates.\n",
    "- Provide at least one evidence.quote per edge. Include citation_ids/section if visible.\n",
    "- Use concise labels; include a year if present (e.g., \"(1914)\").\n",
    "- Generate unique, stable ids. For nodes: 'evt_<slug>' etc. For edges: 'e_<src>_<dst>_<relation>'.\n",
    "- If dates are known, populate time_start/time_end as strings (YYYY-MM-DDT00:00:00Z). If not possible, leave as null. You're not going to know hour minute second so leave those as zero. If day not known, leave as 01 since 00 not possible.\"\n",
    "- temporal_valid should be true only if time_start(source) < time_start(target), or unknown.\n",
    "- Return ONLY JSON that matches the schema.\n",
    "\"\"\"\n",
    "\n",
    "USER = \"\"\"Document title: {title}\n",
    "Optional context: {context}\n",
    "Full text:\n",
    "{doc}\n",
    "\n",
    "Output format (must follow exactly):\n",
    "{format_instructions}\n",
    "\"\"\"\n",
    "\n",
    "prompt = ChatPromptTemplate.from_messages([\n",
    "    (\"system\", SYSTEM),\n",
    "    (\"user\", USER)\n",
    "])\n"
   ]
  },
  {
   "cell_type": "code",
   "execution_count": 9,
   "id": "a15f78de",
   "metadata": {},
   "outputs": [],
   "source": [
    "# Example: OpenAI-compatible; replace with your provider\n",
    "# from langchain_openai import ChatOpenAI\n",
    "# llm = ChatOpenAI(model=\"gpt-4o-mini\", temperature=0)\n",
    "\n",
    "# Or your initialized model:\n",
    "llm = init_chat_model(\"gemini-2.5-flash\", model_provider=\"google_genai\", temperature=0)\n",
    "\n",
    "messages = prompt.format_messages(\n",
    "    title=\"Sample Article\",\n",
    "    context=\"Historical cause-effect extraction.\",\n",
    "    doc=docs[0].page_content,\n",
    "    format_instructions=format_instructions\n",
    ")\n",
    "\n",
    "raw = llm.invoke(messages)\n",
    "\n",
    "# Parse with Pydantic\n",
    "try:\n",
    "    cy: CyElements = parser.parse(raw.content)\n",
    "except Exception as e:\n",
    "    # Optional: retry with a corrective system note or simpler schema\n",
    "    raise\n"
   ]
  },
  {
   "cell_type": "code",
   "execution_count": 10,
   "id": "b77648dc",
   "metadata": {},
   "outputs": [
    {
     "name": "stderr",
     "output_type": "stream",
     "text": [
      "/tmp/ipykernel_8713/740252453.py:9: DeprecationWarning: datetime.datetime.utcnow() is deprecated and scheduled for removal in a future version. Use timezone-aware objects to represent datetimes in UTC: datetime.datetime.now(datetime.UTC).\n",
      "  \"creationTime\": datetime.utcnow().isoformat() + \"Z\",\n"
     ]
    }
   ],
   "source": [
    "import json\n",
    "from datetime import datetime\n",
    "\n",
    "def save_cyjs(cy_elements, path, app_name=\"cause_effect_extractor\"):\n",
    "    payload = {\n",
    "        \"format_version\": \"1.0\",\n",
    "        \"generated_by\": app_name,\n",
    "        \"target_cytoscape_version\": \"~3.9\",\n",
    "        \"creationTime\": datetime.utcnow().isoformat() + \"Z\",\n",
    "        \"elements\": {\n",
    "            \"nodes\": [n.model_dump(mode=\"json\") for n in cy_elements.nodes],\n",
    "            \"edges\": [e.model_dump(mode=\"json\") for e in cy_elements.edges],\n",
    "        },\n",
    "       \n",
    "    }\n",
    "    with open(path, \"w\", encoding=\"utf-8\") as f:\n",
    "        json.dump(payload, f, ensure_ascii=False, indent=2)\n",
    "\n",
    "\n",
    "\n",
    "save_cyjs(cy, \"brotherhood.cyjs\")"
   ]
  },
  {
   "cell_type": "code",
   "execution_count": null,
   "id": "328c816f",
   "metadata": {},
   "outputs": [],
   "source": [
    "from py4cytoscape import import_network_from_file, layouts, delete_all_networks, notebook_export_show_image\n",
    "delete_all_networks()\n",
    "import_network_from_file(\"brotherhood.cyjs\")\n",
    "\n"
   ]
  },
  {
   "cell_type": "code",
   "execution_count": 28,
   "id": "30daeeaa",
   "metadata": {},
   "outputs": [
    {
     "name": "stderr",
     "output_type": "stream",
     "text": [
      "In _export_show_image(): Cannot display network view image unless running as a Jupyter Notebook.\n"
     ]
    },
    {
     "ename": "CyError",
     "evalue": "In _export_show_image(): Cannot display network view image unless running as a Jupyter Notebook.",
     "output_type": "error",
     "traceback": [
      "\u001b[31m---------------------------------------------------------------------------\u001b[39m",
      "\u001b[31mCyError\u001b[39m                                   Traceback (most recent call last)",
      "\u001b[36mCell\u001b[39m\u001b[36m \u001b[39m\u001b[32mIn[28]\u001b[39m\u001b[32m, line 3\u001b[39m\n\u001b[32m      1\u001b[39m layouts.get_layout_names()\n\u001b[32m      2\u001b[39m layouts.layout_network(layout_name=\u001b[33m\"\u001b[39m\u001b[33mcircular\u001b[39m\u001b[33m\"\u001b[39m)\n\u001b[32m----> \u001b[39m\u001b[32m3\u001b[39m \u001b[43mnotebook_export_show_image\u001b[49m\u001b[43m(\u001b[49m\u001b[43m)\u001b[49m\n",
      "\u001b[36mFile \u001b[39m\u001b[32m~/langchain-wikipedia-analyzing/.devenv/state/venv/lib/python3.13/site-packages/py4cytoscape/py4cytoscape_logger.py:133\u001b[39m, in \u001b[36mcy_log.<locals>.wrapper_log\u001b[39m\u001b[34m(*args, **kwargs)\u001b[39m\n\u001b[32m    131\u001b[39m     \u001b[38;5;28;01mreturn\u001b[39;00m log_return(func, value)\n\u001b[32m    132\u001b[39m \u001b[38;5;28;01mexcept\u001b[39;00m \u001b[38;5;167;01mException\u001b[39;00m \u001b[38;5;28;01mas\u001b[39;00m e:\n\u001b[32m--> \u001b[39m\u001b[32m133\u001b[39m     \u001b[43mlog_exception\u001b[49m\u001b[43m(\u001b[49m\u001b[43mfunc\u001b[49m\u001b[43m,\u001b[49m\u001b[43m \u001b[49m\u001b[43me\u001b[49m\u001b[43m)\u001b[49m\n\u001b[32m    134\u001b[39m \u001b[38;5;28;01mfinally\u001b[39;00m:\n\u001b[32m    135\u001b[39m     log_finally()\n",
      "\u001b[36mFile \u001b[39m\u001b[32m~/langchain-wikipedia-analyzing/.devenv/state/venv/lib/python3.13/site-packages/py4cytoscape/py4cytoscape_logger.py:130\u001b[39m, in \u001b[36mcy_log.<locals>.wrapper_log\u001b[39m\u001b[34m(*args, **kwargs)\u001b[39m\n\u001b[32m    128\u001b[39m log_incoming(func, *args, **kwargs)\n\u001b[32m    129\u001b[39m \u001b[38;5;28;01mtry\u001b[39;00m:\n\u001b[32m--> \u001b[39m\u001b[32m130\u001b[39m     value = \u001b[43mfunc\u001b[49m\u001b[43m(\u001b[49m\u001b[43m*\u001b[49m\u001b[43margs\u001b[49m\u001b[43m,\u001b[49m\u001b[43m \u001b[49m\u001b[43m*\u001b[49m\u001b[43m*\u001b[49m\u001b[43mkwargs\u001b[49m\u001b[43m)\u001b[49m \u001b[38;5;66;03m# Call function being logged\u001b[39;00m\n\u001b[32m    131\u001b[39m     \u001b[38;5;28;01mreturn\u001b[39;00m log_return(func, value)\n\u001b[32m    132\u001b[39m \u001b[38;5;28;01mexcept\u001b[39;00m \u001b[38;5;167;01mException\u001b[39;00m \u001b[38;5;28;01mas\u001b[39;00m e:\n",
      "\u001b[36mFile \u001b[39m\u001b[32m~/langchain-wikipedia-analyzing/.devenv/state/venv/lib/python3.13/site-packages/py4cytoscape/notebook.py:75\u001b[39m, in \u001b[36mnotebook_export_show_image\u001b[39m\u001b[34m(filename, type, resolution, units, height, width, zoom, sandbox_name, network, base_url, overwrite_file)\u001b[39m\n\u001b[32m     34\u001b[39m \u001b[38;5;129m@cy_log\u001b[39m\n\u001b[32m     35\u001b[39m \u001b[38;5;28;01mdef\u001b[39;00m\u001b[38;5;250m \u001b[39m\u001b[34mnotebook_export_show_image\u001b[39m(filename=\u001b[33m'\u001b[39m\u001b[33mimage\u001b[39m\u001b[33m'\u001b[39m, \u001b[38;5;28mtype\u001b[39m=\u001b[33m'\u001b[39m\u001b[33mPNG\u001b[39m\u001b[33m'\u001b[39m, resolution=\u001b[38;5;28;01mNone\u001b[39;00m, units=\u001b[38;5;28;01mNone\u001b[39;00m, height=\u001b[38;5;28;01mNone\u001b[39;00m, width=\u001b[38;5;28;01mNone\u001b[39;00m, zoom=\u001b[38;5;28;01mNone\u001b[39;00m,\n\u001b[32m     36\u001b[39m                                sandbox_name=\u001b[38;5;28;01mNone\u001b[39;00m, network=\u001b[38;5;28;01mNone\u001b[39;00m, base_url=DEFAULT_BASE_URL, *, overwrite_file=\u001b[38;5;28;01mTrue\u001b[39;00m):\n\u001b[32m     37\u001b[39m \u001b[38;5;250m    \u001b[39m\u001b[33;03m\"\"\"Show network view in notebook output.\u001b[39;00m\n\u001b[32m     38\u001b[39m \n\u001b[32m     39\u001b[39m \u001b[33;03m    Export a network view to an image file, then upload the file to the notebook file system and display the image.\u001b[39;00m\n\u001b[32m   (...)\u001b[39m\u001b[32m     73\u001b[39m \u001b[33;03m        >>> notebook_export_show_image('imagex', type='JPG')\u001b[39;00m\n\u001b[32m     74\u001b[39m \u001b[33;03m    \"\"\"\u001b[39;00m\n\u001b[32m---> \u001b[39m\u001b[32m75\u001b[39m     \u001b[38;5;28;01mreturn\u001b[39;00m \u001b[43m_export_show_image\u001b[49m\u001b[43m(\u001b[49m\u001b[43mexport_first\u001b[49m\u001b[43m=\u001b[49m\u001b[38;5;28;43;01mTrue\u001b[39;49;00m\u001b[43m,\u001b[49m\u001b[43m \u001b[49m\u001b[43mfilename\u001b[49m\u001b[43m=\u001b[49m\u001b[43mfilename\u001b[49m\u001b[43m,\u001b[49m\u001b[43m \u001b[49m\u001b[38;5;28;43mtype\u001b[39;49m\u001b[43m=\u001b[49m\u001b[38;5;28;43mtype\u001b[39;49m\u001b[43m,\u001b[49m\u001b[43m \u001b[49m\u001b[43mresolution\u001b[49m\u001b[43m=\u001b[49m\u001b[43mresolution\u001b[49m\u001b[43m,\u001b[49m\u001b[43m \u001b[49m\u001b[43munits\u001b[49m\u001b[43m=\u001b[49m\u001b[43munits\u001b[49m\u001b[43m,\u001b[49m\n\u001b[32m     76\u001b[39m \u001b[43m                              \u001b[49m\u001b[43mheight\u001b[49m\u001b[43m=\u001b[49m\u001b[43mheight\u001b[49m\u001b[43m,\u001b[49m\u001b[43m \u001b[49m\u001b[43mwidth\u001b[49m\u001b[43m=\u001b[49m\u001b[43mwidth\u001b[49m\u001b[43m,\u001b[49m\u001b[43m \u001b[49m\u001b[43mzoom\u001b[49m\u001b[43m=\u001b[49m\u001b[43mzoom\u001b[49m\u001b[43m,\u001b[49m\u001b[43m \u001b[49m\u001b[43msandbox_name\u001b[49m\u001b[43m=\u001b[49m\u001b[43msandbox_name\u001b[49m\u001b[43m,\u001b[49m\u001b[43m \u001b[49m\u001b[43mnetwork\u001b[49m\u001b[43m=\u001b[49m\u001b[43mnetwork\u001b[49m\u001b[43m,\u001b[49m\n\u001b[32m     77\u001b[39m \u001b[43m                              \u001b[49m\u001b[43mbase_url\u001b[49m\u001b[43m=\u001b[49m\u001b[43mbase_url\u001b[49m\u001b[43m,\u001b[49m\u001b[43m \u001b[49m\u001b[43moverwrite_file\u001b[49m\u001b[43m=\u001b[49m\u001b[43moverwrite_file\u001b[49m\u001b[43m)\u001b[49m\n",
      "\u001b[36mFile \u001b[39m\u001b[32m~/langchain-wikipedia-analyzing/.devenv/state/venv/lib/python3.13/site-packages/py4cytoscape/notebook.py:131\u001b[39m, in \u001b[36m_export_show_image\u001b[39m\u001b[34m(export_first, filename, type, resolution, units, height, width, zoom, sandbox_name, network, base_url, overwrite_file)\u001b[39m\n\u001b[32m    129\u001b[39m     \u001b[38;5;28;01mreturn\u001b[39;00m display.Image(filename)\n\u001b[32m    130\u001b[39m \u001b[38;5;28;01melse\u001b[39;00m:\n\u001b[32m--> \u001b[39m\u001b[32m131\u001b[39m     \u001b[38;5;28;01mraise\u001b[39;00m CyError(\u001b[33m'\u001b[39m\u001b[33mCannot display network view image unless running as a Jupyter Notebook.\u001b[39m\u001b[33m'\u001b[39m)\n",
      "\u001b[31mCyError\u001b[39m: In _export_show_image(): Cannot display network view image unless running as a Jupyter Notebook."
     ]
    }
   ],
   "source": [
    "layouts.get_layout_names()\n",
    "layouts.layout_network(layout_name=\"circular\")\n",
    "notebook_export_show_image()\n",
    "\n"
   ]
  },
  {
   "cell_type": "code",
   "execution_count": null,
   "id": "34053379",
   "metadata": {},
   "outputs": [],
   "source": []
  }
 ],
 "metadata": {
  "kernelspec": {
   "display_name": "venv",
   "language": "python",
   "name": "python3"
  },
  "language_info": {
   "codemirror_mode": {
    "name": "ipython",
    "version": 3
   },
   "file_extension": ".py",
   "mimetype": "text/x-python",
   "name": "python",
   "nbconvert_exporter": "python",
   "pygments_lexer": "ipython3",
   "version": "3.13.5"
  }
 },
 "nbformat": 4,
 "nbformat_minor": 5
}
