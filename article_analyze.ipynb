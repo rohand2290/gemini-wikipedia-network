{
 "cells": [
  {
   "cell_type": "markdown",
   "id": "9b037549",
   "metadata": {},
   "source": [
    "# Generating DAG's on Wikipedia articles with Langchain\n",
    "\n",
    "## Introduction\n",
    "Yesterday I was bored, and I've already done some work generating protein association networks with Cytoscape and String.\n",
    "I was wondering if this could be extended to other domains with the use of LLM's to generate JSON graph data.\n",
    "I tried it with an paragraph in an article about the [Muslim Brotherhood](https://en.wikipedia.org/wiki/Muslim_Brotherhood) since I had to write a final paper on that for my first year seminar at UCLA and it yielded somewhat interesting results.\n",
    "I was able to import the JSON into Cytoscape and do an analysis, but I want to try investigating the feasibility of doing this on a larger scale.\n"
   ]
  },
  {
   "cell_type": "markdown",
   "id": "5044939e",
   "metadata": {},
   "source": [
    "## Load Wikipedia article\n",
    "We'll use Langchain's loaders to scrape Wikipedia articles.\n",
    "This way, we can programmatically get Wikipedia articles and chunk them later."
   ]
  },
  {
   "cell_type": "code",
   "execution_count": 1,
   "id": "7d4cf53f",
   "metadata": {},
   "outputs": [],
   "source": [
    "from langchain_community.document_loaders import WikipediaLoader"
   ]
  },
  {
   "cell_type": "code",
   "execution_count": 20,
   "id": "794f673b",
   "metadata": {},
   "outputs": [
    {
     "data": {
      "text/plain": [
       "Document(metadata={'title': \"2013 Egyptian coup d'état\", 'summary': 'The 2013 Egyptian coup d\\'etat or the Counter-revolution is an event that took place on 3 July 2013. Egyptian army chief General Abdel Fattah el-Sisi led a coalition to remove the democratically elected President of Egypt Mohamed Morsi from power and suspended the Egyptian constitution of 2012. The move came after the military\\'s ultimatum for the government to \"resolve its differences\" with protesters during widespread national protests. The military arrested Morsi and Muslim Brotherhood leaders, and declared Chief Justice of the Supreme Constitutional Court Adly Mansour as the interim president of Egypt. The announcement was followed by demonstrations and clashes between supporters and opponents of the move throughout Egypt.\\nThere were mixed international reactions to the events. Most Arab leaders were generally supportive or neutral, with the exception of Qatar and Tunisia who strongly condemned the military\\'s actions. The US avoided describing the action as a coup. Other states either condemned or expressed concern over the removal of Morsi. Due to the regulations of the African Union regarding the interruption of constitutional rule by a member state, Egypt was suspended from that union. There has also been debate in the media regarding the labeling of these events. It has been described by some global media outlets as a coup or as a revolution. Egyptian State media outlets mainly referred to the ousting as a revolution, and this term was also favoured by a majority of the Egyptian public.\\nEnsuing protests in favour of Morsi were violently suppressed culminating with the dispersal and massacre of pro-Morsi sit-ins on 14 August 2013, amid ongoing unrest; journalists and several hundred protestors were killed by police and military force. Muslim Brotherhood members claim 2,600 people were killed. Human Rights Watch documented a minimum of 904 deaths, describing it as crimes against humanity and \"one of the world\\'s largest killings of demonstrators in a single day in recent history,\" while the government puts the figure at 624.', 'source': 'https://en.wikipedia.org/wiki/2013_Egyptian_coup_d%27%C3%A9tat'}, page_content='The 2013 Egyptian coup d\\'etat or the Counter-revolution is an event that took place on 3 July 2013. Egyptian army chief General Abdel Fattah el-Sisi led a coalition to remove the democratically elected President of Egypt Mohamed Morsi from power and suspended the Egyptian constitution of 2012. The move came after the military\\'s ultimatum for the government to \"resolve its differences\" with protesters during widespread national protests. The military arrested Morsi and Muslim Brotherhood leaders, and declared Chief Justice of the Supreme Constitutional Court Adly Mansour as the interim president of Egypt. The announcement was followed by demonstrations and clashes between supporters and opponents of the move throughout Egypt.\\nThere were mixed international reactions to the events. Most Arab leaders were generally supportive or neutral, with the exception of Qatar and Tunisia who strongly condemned the military\\'s actions. The US avoided describing the action as a coup. Other states either condemned or expressed concern over the removal of Morsi. Due to the regulations of the African Union regarding the interruption of constitutional rule by a member state, Egypt was suspended from that union. There has also been debate in the media regarding the labeling of these events. It has been described by some global media outlets as a coup or as a revolution. Egyptian State media outlets mainly referred to the ousting as a revolution, and this term was also favoured by a majority of the Egyptian public.\\nEnsuing protests in favour of Morsi were violently suppressed culminating with the dispersal and massacre of pro-Morsi sit-ins on 14 August 2013, amid ongoing unrest; journalists and several hundred protestors were killed by police and military force. Muslim Brotherhood members claim 2,600 people were killed. Human Rights Watch documented a minimum of 904 deaths, describing it as crimes against humanity and \"one of the world\\'s largest killings of demonstrators in a single day in recent history,\" while the government puts the figure at 624.\\n\\n\\n== Background ==\\n\\nIn February 2011, Hosni Mubarak resigned after 18 days of mass demonstrations that ended his 29-year rule of Egypt. In July 2011 the caretaker government approved an election law, leading to election of a Parliament in December 2011 – January 2012, and an advisory council in January–February 2012. An alliance led by the Freedom and Justice Party won the most seats in each election. An additional 25% of the members of the advisory council were to be appointed by the President. In June 2012, Mohamed Morsi won the presidential election with 51.73% of total votes to become the first democratically elected president of Egypt. In June 2012, prior to Morsi being sworn in as President, the Supreme Constitutional Court ruled that the election law was unconstitutional and ordered the elected bodies dissolved. After assuming office, President Morsi appointed additional members to the advisory council from 35 political parties and invited the elected bodies to meet to discuss the ruling of the court.\\nThe elected parliament determined that the constitutional court did not have authority to dissolve an elected parliament, then referred the matter to the Court of Cassation. The elected parliament could not pass any laws, but the advisory council continued to give advice on proposed Presidential Decrees. Parliament also proceeded with the creation of a new constitutional committee to draft amendments to the Egyptian Constitution, replacing the committee created in March 2012 but dissolved by the constitutional court. Proposed constitutional amendments were approved in December 2012 by a national referendum. New elections were scheduled for April 2013 under a law approved in draft by the constitutional court, but were postponed to October 2013 to comply with a technical order of an administrative court.\\nIn November 2012, following the protests against the Constitutional Declaration by Morsi, oppositi')"
      ]
     },
     "execution_count": 20,
     "metadata": {},
     "output_type": "execute_result"
    }
   ],
   "source": [
    "docs = WikipediaLoader(query=\"2013 Egyptian coup\", load_max_docs=1).load()\n",
    "docs[0]"
   ]
  },
  {
   "cell_type": "markdown",
   "id": "735d196b",
   "metadata": {},
   "source": []
  },
  {
   "cell_type": "code",
   "execution_count": 21,
   "id": "981bfff2",
   "metadata": {},
   "outputs": [],
   "source": [
    "from langchain_text_splitters import RecursiveCharacterTextSplitter\n",
    "\n",
    "article_splitter = RecursiveCharacterTextSplitter(\n",
    "    chunk_size = 1200,\n",
    "    chunk_overlap = 200\n",
    ")\n",
    "\n",
    "split_article = article_splitter.split_documents(docs)"
   ]
  },
  {
   "cell_type": "markdown",
   "id": "b2e55e97",
   "metadata": {},
   "source": [
    "## Defining the schema\n",
    "\n",
    "For our DAG, we need to define schemas for nodes and edges. Nodes have to be event centric, but minimal, and edges have to be causal with evidence."
   ]
  },
  {
   "cell_type": "markdown",
   "id": "47d6a904",
   "metadata": {},
   "source": []
  },
  {
   "cell_type": "code",
   "execution_count": 22,
   "id": "7ef4bf29",
   "metadata": {},
   "outputs": [],
   "source": [
    "# Minimal schemas for a temporal causal graph (Cytoscape-ready)\n",
    "\n",
    "from enum import Enum\n",
    "from typing import List, Optional, Dict, Any, Tuple, Literal\n",
    "from pydantic import BaseModel, Field, constr, confloat\n",
    "from datetime import date\n",
    "\n",
    "\n",
    "# --- Enums ---\n",
    "\n",
    "class NodeType(str, Enum):\n",
    "    Event = \"Event\"\n",
    "    Person = \"Person\"\n",
    "    Organization = \"Organization\"\n",
    "    Place = \"Place\"\n",
    "    Concept = \"Concept\"\n",
    "\n",
    "\n",
    "class RelationType(str, Enum):\n",
    "    causes = \"causes\"\n",
    "    leads_to = \"leads_to\"\n",
    "    enables = \"enables\"\n",
    "    triggers = \"triggers\"\n",
    "    prevents = \"prevents\"\n",
    "    mitigates = \"mitigates\"\n",
    "\n",
    "\n",
    "Polarity = Literal[1, -1]  # +1 promotes/enables; -1 inhibits/prevents\n",
    "\n",
    "\n",
    "# --- Evidence & Provenance (minimal) ---\n",
    "\n",
    "class Evidence(BaseModel):\n",
    "    quote: constr(strip_whitespace=True, min_length=1)\n",
    "    citation_ids: List[str] = Field(default_factory=list)\n",
    "    section: Optional[str] = None\n",
    "    char_spans: Optional[Tuple[int, int]] = None\n",
    "\n",
    "\n",
    "class Provenance(BaseModel):\n",
    "    article_id: Optional[str] = None\n",
    "    revision_id: Optional[str] = None\n",
    "    run_id: Optional[str] = None\n",
    "\n",
    "\n",
    "# --- Core graph models ---\n",
    "\n",
    "class EventNode(BaseModel):\n",
    "    id: constr(strip_whitespace=True, min_length=1)\n",
    "    label: constr(strip_whitespace=True, min_length=1)\n",
    "    type: NodeType = NodeType.Event\n",
    "    time_start: Optional[date] = None\n",
    "    time_end: Optional[date] = None\n",
    "    wikidata_id: Optional[str] = None\n",
    "    provenance: Optional[Provenance] = None\n",
    "    meta: Dict[str, Any] = Field(default_factory=dict)\n",
    "\n",
    "\n",
    "class CausalEdge(BaseModel):\n",
    "    id: constr(strip_whitespace=True, min_length=1)\n",
    "    source: constr(strip_whitespace=True, min_length=1)\n",
    "    target: constr(strip_whitespace=True, min_length=1)\n",
    "    relation_type: RelationType\n",
    "    polarity: Polarity = 1\n",
    "    confidence: confloat(ge=0.0, le=1.0) = 0.5\n",
    "    lag_days: Optional[int] = None\n",
    "    evidence: List[Evidence] = Field(default_factory=list)\n",
    "    temporal_valid: bool = True\n",
    "    provisional: bool = False\n",
    "    meta: Dict[str, Any] = Field(default_factory=dict)\n",
    "\n",
    "\n",
    "# --- Cytoscape export wrappers (minimal) ---\n",
    "\n",
    "class CyNode(BaseModel):\n",
    "    data: EventNode\n",
    "\n",
    "\n",
    "class CyEdge(BaseModel):\n",
    "    data: CausalEdge\n",
    "\n",
    "\n",
    "class CyElements(BaseModel):\n",
    "    nodes: List[CyNode] = Field(default_factory=list)\n",
    "    edges: List[CyEdge] = Field(default_factory=list)\n"
   ]
  },
  {
   "cell_type": "markdown",
   "id": "ff09f3e9",
   "metadata": {},
   "source": [
    "## Creating extractor\n",
    "Using the schemas defined above, we're going to build an extraction chain with Gemini. It'll take our document and parse it into CyElements, which can be imported into Cytoscape later."
   ]
  },
  {
   "cell_type": "code",
   "execution_count": 23,
   "id": "f34e8087",
   "metadata": {},
   "outputs": [],
   "source": [
    "from langchain.output_parsers import PydanticOutputParser\n",
    "from langchain.prompts import ChatPromptTemplate\n",
    "from langchain.chat_models import init_chat_model\n",
    "parser = PydanticOutputParser(pydantic_object=CyElements)\n",
    "format_instructions = parser.get_format_instructions()\n",
    "\n",
    "SYSTEM = \"\"\"You are extracting a causal, temporal graph from the provided document.\n",
    "Goal: Return a Cytoscape-ready JSON object with nodes and edges.\n",
    "\n",
    "Rules:\n",
    "- Only include nodes that are concrete events/entities referenced in the document.\n",
    "- Event node should be Event, Person, Organization, Place, Concept from the allowed set.\n",
    "- Only include causal edges (cause → effect). Use relation_type from the allowed set (causes, leads_to, enables, triggers, prevents or mitigates)\n",
    "- Set polarity: +1 for promotes/enables/causes; -1 for prevents/mitigates.\n",
    "- Provide at least one evidence.quote per edge. Include citation_ids/section if visible.\n",
    "- Use concise labels; include a year if present (e.g., \"(1914)\").\n",
    "- Generate unique, stable ids. For nodes: 'evt_<slug>' etc. For edges: 'e_<src>_<dst>_<relation>'.\n",
    "- If dates are known, populate time_start/time_end as strings (YYYY-MM-DDT00:00:00Z). If not possible, leave as null. You're not going to know hour minute second so leave those as zero. If day not known, leave as 01 since 00 not possible.\"\n",
    "- temporal_valid should be true only if time_start(source) < time_start(target), or unknown.\n",
    "- Return ONLY JSON that matches the schema.\n",
    "\"\"\"\n",
    "\n",
    "USER = \"\"\"Document title: {title}\n",
    "Optional context: {context}\n",
    "Full text:\n",
    "{doc}\n",
    "\n",
    "Output format (must follow exactly):\n",
    "{format_instructions}\n",
    "\"\"\"\n",
    "\n",
    "prompt = ChatPromptTemplate.from_messages([\n",
    "    (\"system\", SYSTEM),\n",
    "    (\"user\", USER)\n",
    "])\n"
   ]
  },
  {
   "cell_type": "code",
   "execution_count": 24,
   "id": "a15f78de",
   "metadata": {},
   "outputs": [],
   "source": [
    "# Example: OpenAI-compatible; replace with your provider\n",
    "# from langchain_openai import ChatOpenAI\n",
    "# llm = ChatOpenAI(model=\"gpt-4o-mini\", temperature=0)\n",
    "\n",
    "# Or your initialized model:\n",
    "llm = init_chat_model(\"gemini-2.5-flash\", model_provider=\"google_genai\", temperature=0)\n",
    "\n",
    "messages = prompt.format_messages(\n",
    "    title=\"Sample Article\",\n",
    "    context=\"Historical cause-effect extraction.\",\n",
    "    doc=docs[0].page_content,\n",
    "    format_instructions=format_instructions\n",
    ")\n",
    "\n",
    "raw = llm.invoke(messages)\n",
    "\n",
    "# Parse with Pydantic\n",
    "try:\n",
    "    cy: CyElements = parser.parse(raw.content)\n",
    "except Exception as e:\n",
    "    # Optional: retry with a corrective system note or simpler schema\n",
    "    raise\n"
   ]
  },
  {
   "cell_type": "code",
   "execution_count": 25,
   "id": "b77648dc",
   "metadata": {},
   "outputs": [
    {
     "name": "stderr",
     "output_type": "stream",
     "text": [
      "/tmp/ipykernel_14040/1635486082.py:9: DeprecationWarning: datetime.datetime.utcnow() is deprecated and scheduled for removal in a future version. Use timezone-aware objects to represent datetimes in UTC: datetime.datetime.now(datetime.UTC).\n",
      "  \"creationTime\": datetime.utcnow().isoformat() + \"Z\",\n"
     ]
    }
   ],
   "source": [
    "import json\n",
    "from datetime import datetime\n",
    "\n",
    "def save_cyjs(cy_elements, path, app_name=\"cause_effect_extractor\"):\n",
    "    payload = {\n",
    "        \"format_version\": \"1.0\",\n",
    "        \"generated_by\": app_name,\n",
    "        \"target_cytoscape_version\": \"~3.9\",\n",
    "        \"creationTime\": datetime.utcnow().isoformat() + \"Z\",\n",
    "        \"elements\": {\n",
    "            \"nodes\": [n.model_dump(mode=\"json\") for n in cy_elements.nodes],\n",
    "            \"edges\": [e.model_dump(mode=\"json\") for e in cy_elements.edges],\n",
    "        },\n",
    "       \n",
    "    }\n",
    "    with open(path, \"w\", encoding=\"utf-8\") as f:\n",
    "        json.dump(payload, f, ensure_ascii=False, indent=2)\n",
    "\n",
    "\n",
    "\n",
    "save_cyjs(cy, \"article.cyjs\")"
   ]
  },
  {
   "cell_type": "markdown",
   "id": "798b6a08",
   "metadata": {},
   "source": [
    "## Results\n",
    "Overall, not a terrible first try. Improvements have to be made to the prompt so that it fits the Pydantic parser model we set up earlier, but a lot of the connections do make sense with further analyzing.\n",
    "Some next steps include multiple Wikipedia articles and seeing the connections, chunking the text for more potential accuracy, and setting up Voila for an interactive web app with Cytoscape.js.\n"
   ]
  },
  {
   "cell_type": "markdown",
   "id": "2ed480b1",
   "metadata": {},
   "source": [
    "# Interactive visualization with `ipycytoscape`"
   ]
  },
  {
   "cell_type": "code",
   "execution_count": 26,
   "id": "34053379",
   "metadata": {},
   "outputs": [],
   "source": [
    "from ipycytoscape import CytoscapeWidget\n",
    "import json\n",
    "\n",
    "with open(\"article.cyjs\") as fi:\n",
    "    json_file = json.load(fi)\n",
    "\n",
    "cytoscapeobj = CytoscapeWidget()\n",
    "cytoscapeobj.graph.add_graph_from_json(json_file.get(\"elements\"))"
   ]
  },
  {
   "cell_type": "code",
   "execution_count": 27,
   "id": "4f9033c0",
   "metadata": {},
   "outputs": [],
   "source": [
    "cytoscapeobj.set_style([\n",
    "    # Nodes\n",
    "    {\n",
    "        'selector': 'node',\n",
    "        'style': {\n",
    "            'background-color': '#4a90e2',\n",
    "            'width': 'mapData(weight, 0, 100, 30, 60)',  # or a fixed size like '40px'\n",
    "            'height': 'mapData(weight, 0, 100, 30, 60)',\n",
    "\n",
    "            # Label\n",
    "            'label': 'data(label)',          # assumes your node data has a 'label' field\n",
    "            'color': '#222',\n",
    "            'font-size': '12px',\n",
    "            'font-family': 'Inter, Helvetica, Arial, sans-serif',\n",
    "            'text-valign': 'center',\n",
    "            'text-halign': 'center',\n",
    "            'text-wrap': 'wrap',             # wrap long labels\n",
    "            'text-max-width': '120px',       # limit label width to prevent overflow\n",
    "            'text-margin-y': '0px',\n",
    "            'text-outline-width': 2,         # halo around text to improve contrast\n",
    "            'text-outline-color': '#ffffff',\n",
    "            'z-index-compare': 'manual',\n",
    "            'z-index': 10\n",
    "        }\n",
    "    },\n",
    "\n",
    "    # Node hover/selection emphasis\n",
    "    {\n",
    "        'selector': 'node:selected',\n",
    "        'style': {\n",
    "            'border-width': 3,\n",
    "            'border-color': '#ff7f0e',\n",
    "            'font-size': '14px',\n",
    "            'text-outline-width': 3\n",
    "        }\n",
    "    },\n",
    "    {\n",
    "        'selector': 'node:hover',\n",
    "        'style': {\n",
    "            'border-width': 2,\n",
    "            'border-color': '#ff7f0e',\n",
    "            'cursor': 'pointer'\n",
    "        }\n",
    "    },\n",
    "\n",
    "    # Edges\n",
    "    {\n",
    "        'selector': 'edge',\n",
    "        'style': {\n",
    "            'line-color': '#9aa4b2',\n",
    "            'width': 2,\n",
    "            'curve-style': 'bezier',\n",
    "            'target-arrow-shape': 'triangle',\n",
    "            'target-arrow-color': '#9aa4b2',\n",
    "\n",
    "            # Edge labels (if you have 'label' or 'relation_type' in edge.data)\n",
    "            'label': 'data(label)',          # or 'data(relation_type)'\n",
    "            'font-size': '10px',\n",
    "            'color': '#1f2937',\n",
    "            'text-rotation': 'autorotate',\n",
    "            'text-outline-width': 2,\n",
    "            'text-outline-color': '#ffffff',\n",
    "            'text-background-opacity': 0.75, # optional chip behind text\n",
    "            'text-background-color': '#ffffff',\n",
    "            'text-background-shape': 'roundrectangle',\n",
    "            'text-background-padding': '2px',\n",
    "        }\n",
    "    },\n",
    "\n",
    "    # Edge hover/selection\n",
    "    {\n",
    "        'selector': 'edge:selected',\n",
    "        'style': {\n",
    "            'width': 3,\n",
    "            'line-color': '#ff7f0e',\n",
    "            'target-arrow-color': '#ff7f0e',\n",
    "            'font-size': '12px',\n",
    "            'text-outline-width': 3\n",
    "        }\n",
    "    },\n",
    "    {\n",
    "        'selector': 'edge:hover',\n",
    "        'style': {\n",
    "            'width': 3,\n",
    "            'line-color': '#6b7280',\n",
    "            'target-arrow-color': '#6b7280',\n",
    "            'cursor': 'pointer'\n",
    "        }\n",
    "    }\n",
    "])"
   ]
  },
  {
   "cell_type": "code",
   "execution_count": 29,
   "id": "df676097",
   "metadata": {},
   "outputs": [
    {
     "data": {
      "application/vnd.jupyter.widget-view+json": {
       "model_id": "e8e39b411e494813822667fdb9d5fde2",
       "version_major": 2,
       "version_minor": 0
      },
      "text/plain": [
       "CytoscapeWidget(cytoscape_layout={'name': 'cola'}, cytoscape_style=[{'selector': 'node', 'style': {'background…"
      ]
     },
     "execution_count": 29,
     "metadata": {},
     "output_type": "execute_result"
    }
   ],
   "source": [
    "cytoscapeobj"
   ]
  },
  {
   "cell_type": "code",
   "execution_count": null,
   "id": "6599d208",
   "metadata": {},
   "outputs": [],
   "source": []
  }
 ],
 "metadata": {
  "kernelspec": {
   "display_name": "venv",
   "language": "python",
   "name": "python3"
  },
  "language_info": {
   "codemirror_mode": {
    "name": "ipython",
    "version": 3
   },
   "file_extension": ".py",
   "mimetype": "text/x-python",
   "name": "python",
   "nbconvert_exporter": "python",
   "pygments_lexer": "ipython3",
   "version": "3.13.5"
  }
 },
 "nbformat": 4,
 "nbformat_minor": 5
}
