{
 "cells": [
  {
   "cell_type": "markdown",
   "id": "9b037549",
   "metadata": {},
   "source": [
    "# Generating DAG's on Wikipedia articles with Langchain\n",
    "\n",
    "## Introduction\n",
    "Yesterday I was bored, and I've already done some work generating protein association networks with Cytoscape and String.\n",
    "I was wondering if this could be extended to other domains with the use of LLM's to generate JSON graph data.\n",
    "I tried it with an paragraph in an article about the [Muslim Brotherhood](https://en.wikipedia.org/wiki/Muslim_Brotherhood) since I had to write a final paper on that for my first year seminar at UCLA and it yielded somewhat interesting results.\n",
    "I was able to import the JSON into Cytoscape and do an analysis, but I want to try investigating the feasibility of doing this on a larger scale.\n"
   ]
  },
  {
   "cell_type": "markdown",
   "id": "5044939e",
   "metadata": {},
   "source": [
    "## Load Wikipedia article\n",
    "We'll use Langchain's loaders to scrape Wikipedia articles.\n",
    "This way, we can programmatically get Wikipedia articles and chunk them later."
   ]
  },
  {
   "cell_type": "code",
   "execution_count": 1,
   "id": "7d4cf53f",
   "metadata": {},
   "outputs": [],
   "source": [
    "from langchain_community.document_loaders import WikipediaLoader"
   ]
  },
  {
   "cell_type": "code",
   "execution_count": 2,
   "id": "794f673b",
   "metadata": {},
   "outputs": [
    {
     "data": {
      "text/plain": [
       "Document(metadata={'title': 'Muslim Brotherhood', 'summary': 'The Society of the Muslim Brothers (Arabic: جماعة الإخوان المسلمين Jamāʿat al-Ikhwān al-Muslimīn), better known as the Muslim Brotherhood (الإخوان المسلمون al-Ikhwān al-Muslimūn), is a transnational Sunni Islamist organization founded in Egypt by Islamic scholar, Imam and schoolteacher Hassan al-Banna in 1928. Al-Banna\\'s teachings spread far beyond Egypt, influencing various Islamist movements from charitable organizations to political parties.\\nInitially, as a Pan-Islamic, religious, and social movement, it preached Islam in Egypt, taught the illiterate, and set up hospitals and business enterprises. It later advanced into the political arena, aiming to end British colonial control of Egypt. The movement\\'s self-stated aim is the establishment of a state ruled by sharia law under a caliphate–its most famous slogan is \"Islam is the solution\". Charity is a major aspect of its work.\\nThe group spread to other Muslim countries but still has one of its largest organizations in Egypt, despite a succession of government crackdowns since 1948. It remained a fringe group in the politics of the Arab World until the 1967 Six-Day War, when Islamism replaced popular secular Arab nationalism after a resounding Arab defeat by Israel. The movement was also supported by Saudi Arabia, with which it shared mutual enemies like communism.\\nThe Arab Spring brought it legalization and substantial political power at first, but as of 2013 it has suffered severe reversals. The Egyptian Muslim Brotherhood was legalized in 2011 and won several elections, including the 2012 presidential election when its candidate Mohamed Morsi became Egypt\\'s first president to gain power through an election. A year later, following massive demonstrations and unrest, he was overthrown by the military and placed under house arrest; with a later review finding that the group failed to moderate its views or embrace democratic values during its time in power. The group was then banned in Egypt and declared a terrorist organization. The Persian Gulf monarchies of Saudi Arabia and the United Arab Emirates followed suit, driven by the perception that the Brotherhood is a threat to their authoritarian rule.\\nThe group\\'s founder accepted the utility of political violence and members of Brotherhood conducted assassinations and attempted assassinations on Egyptian state figures during his lifetime, including Egyptian Prime Minister Mahmud El Nokrashi in 1948. Sayyid Qutb, one of the group\\'s most prominent thinkers, promoted takfirism in Ma\\'alim fi-l-Tariq (Milestones), a doctrine that permits \"the stigmatisation of other Muslims as infidel or apostate, and of existing states as unIslamic, and the use of extreme violence in the pursuit of the perfect Islamic society\"; this doctrine continues to inspire many Jihadist movements. The group abandoned the use of violence in the 1970s. However, Hamas, a Palestinian militant group that controls the Gaza Strip, is an off-shoot of the Brotherhood that continues to use violence. The Brotherhood itself claims to be a peaceful, democratic organization, and that its leader \"condemns violence and violent acts\".\\nIn recent times, the primary state backers of the Muslim Brotherhood have been Qatar and the AKP-ruled Turkey. As of 2015, it is considered a terrorist organization by the governments of Bahrain, Egypt, Russia, Saudi Arabia and the United Arab Emirates.', 'source': 'https://en.wikipedia.org/wiki/Muslim_Brotherhood'}, page_content='The Society of the Muslim Brothers (Arabic: جماعة الإخوان المسلمين Jamāʿat al-Ikhwān al-Muslimīn), better known as the Muslim Brotherhood (الإخوان المسلمون al-Ikhwān al-Muslimūn), is a transnational Sunni Islamist organization founded in Egypt by Islamic scholar, Imam and schoolteacher Hassan al-Banna in 1928. Al-Banna\\'s teachings spread far beyond Egypt, influencing various Islamist movements from charitable organizations to political parties.\\nInitially, as a Pan-Islamic, religious, and social movement, it preached Islam in Egypt, taught the illiterate, and set up hospitals and business enterprises. It later advanced into the political arena, aiming to end British colonial control of Egypt. The movement\\'s self-stated aim is the establishment of a state ruled by sharia law under a caliphate–its most famous slogan is \"Islam is the solution\". Charity is a major aspect of its work.\\nThe group spread to other Muslim countries but still has one of its largest organizations in Egypt, despite a succession of government crackdowns since 1948. It remained a fringe group in the politics of the Arab World until the 1967 Six-Day War, when Islamism replaced popular secular Arab nationalism after a resounding Arab defeat by Israel. The movement was also supported by Saudi Arabia, with which it shared mutual enemies like communism.\\nThe Arab Spring brought it legalization and substantial political power at first, but as of 2013 it has suffered severe reversals. The Egyptian Muslim Brotherhood was legalized in 2011 and won several elections, including the 2012 presidential election when its candidate Mohamed Morsi became Egypt\\'s first president to gain power through an election. A year later, following massive demonstrations and unrest, he was overthrown by the military and placed under house arrest; with a later review finding that the group failed to moderate its views or embrace democratic values during its time in power. The group was then banned in Egypt and declared a terrorist organization. The Persian Gulf monarchies of Saudi Arabia and the United Arab Emirates followed suit, driven by the perception that the Brotherhood is a threat to their authoritarian rule.\\nThe group\\'s founder accepted the utility of political violence and members of Brotherhood conducted assassinations and attempted assassinations on Egyptian state figures during his lifetime, including Egyptian Prime Minister Mahmud El Nokrashi in 1948. Sayyid Qutb, one of the group\\'s most prominent thinkers, promoted takfirism in Ma\\'alim fi-l-Tariq (Milestones), a doctrine that permits \"the stigmatisation of other Muslims as infidel or apostate, and of existing states as unIslamic, and the use of extreme violence in the pursuit of the perfect Islamic society\"; this doctrine continues to inspire many Jihadist movements. The group abandoned the use of violence in the 1970s. However, Hamas, a Palestinian militant group that controls the Gaza Strip, is an off-shoot of the Brotherhood that continues to use violence. The Brotherhood itself claims to be a peaceful, democratic organization, and that its leader \"condemns violence and violent acts\".\\nIn recent times, the primary state backers of the Muslim Brotherhood have been Qatar and the AKP-ruled Turkey. As of 2015, it is considered a terrorist organization by the governments of Bahrain, Egypt, Russia, Saudi Arabia and the United Arab Emirates.\\n\\n\\n== Foundation and history in Egypt ==\\n\\n\\n=== Early years ===\\n\\n\\n==== Formative period (1928–1936) ====\\n\\nHassan al-Banna founded the Muslim Brotherhood in the city of Ismailia in March 1928 along with six workers of the Suez Canal Company, as a Pan-Islamic, religious, political, and social movement. They appointed Al-Banna as their leader and vowed to work for Islam through Jihad and revive Islamic Brotherhood. Thus, the Muslim Brothers were born; under the pledge that its members would\\n\\nbe soldiers in the call to Islam, and in that is the life for the country and the honour for the Umma... We ar')"
      ]
     },
     "execution_count": 2,
     "metadata": {},
     "output_type": "execute_result"
    }
   ],
   "source": [
    "docs = WikipediaLoader(query=\"Muslim Brotherhood\", load_max_docs=1).load()\n",
    "docs[0]"
   ]
  },
  {
   "cell_type": "markdown",
   "id": "735d196b",
   "metadata": {},
   "source": []
  },
  {
   "cell_type": "code",
   "execution_count": 3,
   "id": "981bfff2",
   "metadata": {},
   "outputs": [],
   "source": [
    "from langchain_text_splitters import RecursiveCharacterTextSplitter\n",
    "\n",
    "article_splitter = RecursiveCharacterTextSplitter(\n",
    "    chunk_size = 1200,\n",
    "    chunk_overlap = 200\n",
    ")\n",
    "\n",
    "split_article = article_splitter.split_documents(docs)"
   ]
  },
  {
   "cell_type": "markdown",
   "id": "b2e55e97",
   "metadata": {},
   "source": [
    "## Defining the schema\n",
    "\n",
    "For our DAG, we need to define schemas for nodes and edges. Nodes have to be event centric, but minimal, and edges have to be causal with evidence."
   ]
  },
  {
   "cell_type": "markdown",
   "id": "47d6a904",
   "metadata": {},
   "source": []
  },
  {
   "cell_type": "code",
   "execution_count": 4,
   "id": "7ef4bf29",
   "metadata": {},
   "outputs": [],
   "source": [
    "# Minimal schemas for a temporal causal graph (Cytoscape-ready)\n",
    "\n",
    "from enum import Enum\n",
    "from typing import List, Optional, Dict, Any, Tuple, Literal\n",
    "from pydantic import BaseModel, Field, constr, confloat\n",
    "from datetime import date\n",
    "\n",
    "\n",
    "# --- Enums ---\n",
    "\n",
    "class NodeType(str, Enum):\n",
    "    Event = \"Event\"\n",
    "    Person = \"Person\"\n",
    "    Organization = \"Organization\"\n",
    "    Place = \"Place\"\n",
    "    Concept = \"Concept\"\n",
    "\n",
    "\n",
    "class RelationType(str, Enum):\n",
    "    causes = \"causes\"\n",
    "    leads_to = \"leads_to\"\n",
    "    enables = \"enables\"\n",
    "    triggers = \"triggers\"\n",
    "    prevents = \"prevents\"\n",
    "    mitigates = \"mitigates\"\n",
    "\n",
    "\n",
    "Polarity = Literal[1, -1]  # +1 promotes/enables; -1 inhibits/prevents\n",
    "\n",
    "\n",
    "# --- Evidence & Provenance (minimal) ---\n",
    "\n",
    "class Evidence(BaseModel):\n",
    "    quote: constr(strip_whitespace=True, min_length=1)\n",
    "    citation_ids: List[str] = Field(default_factory=list)\n",
    "    section: Optional[str] = None\n",
    "    char_spans: Optional[Tuple[int, int]] = None\n",
    "\n",
    "\n",
    "class Provenance(BaseModel):\n",
    "    article_id: Optional[str] = None\n",
    "    revision_id: Optional[str] = None\n",
    "    run_id: Optional[str] = None\n",
    "\n",
    "\n",
    "# --- Core graph models ---\n",
    "\n",
    "class EventNode(BaseModel):\n",
    "    id: constr(strip_whitespace=True, min_length=1)\n",
    "    label: constr(strip_whitespace=True, min_length=1)\n",
    "    type: NodeType = NodeType.Event\n",
    "    time_start: Optional[date] = None\n",
    "    time_end: Optional[date] = None\n",
    "    wikidata_id: Optional[str] = None\n",
    "    provenance: Optional[Provenance] = None\n",
    "    meta: Dict[str, Any] = Field(default_factory=dict)\n",
    "\n",
    "\n",
    "class CausalEdge(BaseModel):\n",
    "    id: constr(strip_whitespace=True, min_length=1)\n",
    "    source: constr(strip_whitespace=True, min_length=1)\n",
    "    target: constr(strip_whitespace=True, min_length=1)\n",
    "    relation_type: RelationType\n",
    "    polarity: Polarity = 1\n",
    "    confidence: confloat(ge=0.0, le=1.0) = 0.5\n",
    "    lag_days: Optional[int] = None\n",
    "    evidence: List[Evidence] = Field(default_factory=list)\n",
    "    temporal_valid: bool = True\n",
    "    provisional: bool = False\n",
    "    meta: Dict[str, Any] = Field(default_factory=dict)\n",
    "\n",
    "\n",
    "# --- Cytoscape export wrappers (minimal) ---\n",
    "\n",
    "class CyNode(BaseModel):\n",
    "    data: EventNode\n",
    "\n",
    "\n",
    "class CyEdge(BaseModel):\n",
    "    data: CausalEdge\n",
    "\n",
    "\n",
    "class CyElements(BaseModel):\n",
    "    nodes: List[CyNode] = Field(default_factory=list)\n",
    "    edges: List[CyEdge] = Field(default_factory=list)\n"
   ]
  },
  {
   "cell_type": "markdown",
   "id": "ff09f3e9",
   "metadata": {},
   "source": [
    "## Creating extractor\n",
    "Using the schemas defined above, we're going to build an extraction chain with Gemini. It'll take our document and parse it into CyElements, which can be imported into Cytoscape later."
   ]
  },
  {
   "cell_type": "code",
   "execution_count": 15,
   "id": "f34e8087",
   "metadata": {},
   "outputs": [],
   "source": [
    "from langchain.output_parsers import PydanticOutputParser\n",
    "from langchain.prompts import ChatPromptTemplate\n",
    "from langchain.chat_models import init_chat_model\n",
    "parser = PydanticOutputParser(pydantic_object=CyElements)\n",
    "format_instructions = parser.get_format_instructions()\n",
    "\n",
    "SYSTEM = \"\"\"You are extracting a causal, temporal graph from the provided document.\n",
    "Goal: Return a Cytoscape-ready JSON object with nodes and edges.\n",
    "\n",
    "Rules:\n",
    "- Only include nodes that are concrete events/entities referenced in the document.\n",
    "- Only include causal edges (cause → effect). Use relation_type from the allowed set.\n",
    "- Set polarity: +1 for promotes/enables/causes; -1 for prevents/mitigates.\n",
    "- Provide at least one evidence.quote per edge. Include citation_ids/section if visible.\n",
    "- Use concise labels; include a year if present (e.g., \"(1914)\").\n",
    "- Generate unique, stable ids. For nodes: 'evt_<slug>' etc. For edges: 'e_<src>_<dst>_<relation>'.\n",
    "- If dates are known, populate time_start/time_end as strings (YYYY-MM-DDT00:00:00Z). If not possible, leave as null. You're not going to know hour minute second so leave those as zero. If day not known, leave as 01 since 00 not possible.\"\n",
    "- temporal_valid should be true only if time_start(source) < time_start(target), or unknown.\n",
    "- Return ONLY JSON that matches the schema.\n",
    "\"\"\"\n",
    "\n",
    "USER = \"\"\"Document title: {title}\n",
    "Optional context: {context}\n",
    "Full text:\n",
    "{doc}\n",
    "\n",
    "Output format (must follow exactly):\n",
    "{format_instructions}\n",
    "\"\"\"\n",
    "\n",
    "prompt = ChatPromptTemplate.from_messages([\n",
    "    (\"system\", SYSTEM),\n",
    "    (\"user\", USER)\n",
    "])\n"
   ]
  },
  {
   "cell_type": "code",
   "execution_count": 16,
   "id": "a15f78de",
   "metadata": {},
   "outputs": [],
   "source": [
    "# Example: OpenAI-compatible; replace with your provider\n",
    "# from langchain_openai import ChatOpenAI\n",
    "# llm = ChatOpenAI(model=\"gpt-4o-mini\", temperature=0)\n",
    "\n",
    "# Or your initialized model:\n",
    "llm = init_chat_model(\"gemini-2.5-flash\", model_provider=\"google_genai\", temperature=0)\n",
    "\n",
    "messages = prompt.format_messages(\n",
    "    title=\"Sample Article\",\n",
    "    context=\"Historical cause-effect extraction.\",\n",
    "    doc=docs[0].page_content,\n",
    "    format_instructions=format_instructions\n",
    ")\n",
    "\n",
    "raw = llm.invoke(messages)\n",
    "\n",
    "# Parse with Pydantic\n",
    "try:\n",
    "    cy: CyElements = parser.parse(raw.content)\n",
    "except Exception as e:\n",
    "    # Optional: retry with a corrective system note or simpler schema\n",
    "    raise\n"
   ]
  },
  {
   "cell_type": "code",
   "execution_count": 21,
   "id": "b77648dc",
   "metadata": {},
   "outputs": [
    {
     "name": "stderr",
     "output_type": "stream",
     "text": [
      "/tmp/ipykernel_10190/740252453.py:9: DeprecationWarning: datetime.datetime.utcnow() is deprecated and scheduled for removal in a future version. Use timezone-aware objects to represent datetimes in UTC: datetime.datetime.now(datetime.UTC).\n",
      "  \"creationTime\": datetime.utcnow().isoformat() + \"Z\",\n"
     ]
    }
   ],
   "source": [
    "import json\n",
    "from datetime import datetime\n",
    "\n",
    "def save_cyjs(cy_elements, path, app_name=\"cause_effect_extractor\"):\n",
    "    payload = {\n",
    "        \"format_version\": \"1.0\",\n",
    "        \"generated_by\": app_name,\n",
    "        \"target_cytoscape_version\": \"~3.9\",\n",
    "        \"creationTime\": datetime.utcnow().isoformat() + \"Z\",\n",
    "        \"elements\": {\n",
    "            \"nodes\": [n.model_dump(mode=\"json\") for n in cy_elements.nodes],\n",
    "            \"edges\": [e.model_dump(mode=\"json\") for e in cy_elements.edges],\n",
    "        },\n",
    "       \n",
    "    }\n",
    "    with open(path, \"w\", encoding=\"utf-8\") as f:\n",
    "        json.dump(payload, f, ensure_ascii=False, indent=2)\n",
    "\n",
    "\n",
    "\n",
    "save_cyjs(cy, \"brotherhood.cyjs\")"
   ]
  },
  {
   "cell_type": "code",
   "execution_count": null,
   "id": "328c816f",
   "metadata": {},
   "outputs": [],
   "source": []
  }
 ],
 "metadata": {
  "kernelspec": {
   "display_name": "venv",
   "language": "python",
   "name": "python3"
  },
  "language_info": {
   "codemirror_mode": {
    "name": "ipython",
    "version": 3
   },
   "file_extension": ".py",
   "mimetype": "text/x-python",
   "name": "python",
   "nbconvert_exporter": "python",
   "pygments_lexer": "ipython3",
   "version": "3.13.5"
  }
 },
 "nbformat": 4,
 "nbformat_minor": 5
}
